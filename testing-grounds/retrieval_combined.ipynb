{
  "cells": [
    {
      "cell_type": "markdown",
      "metadata": {
        "id": "32yCsRUo8H33"
      },
      "source": [
        "# 2024 COMP90042 Project\n",
        "*Make sure you change the file name with your group id.*"
      ]
    },
    {
      "cell_type": "markdown",
      "metadata": {
        "id": "XCybYoGz8YWQ"
      },
      "source": [
        "# Readme\n",
        "*If there is something to be noted for the marker, please mention here.*\n",
        "\n",
        "*If you are planning to implement a program with Object Oriented Programming style, please put those the bottom of this ipynb file*"
      ]
    },
    {
      "cell_type": "markdown",
      "metadata": {
        "id": "6po98qVA8bJD"
      },
      "source": [
        "# 1.DataSet Processing\n",
        "(You can add as many code blocks and text blocks as you need. However, YOU SHOULD NOT MODIFY the section title)"
      ]
    },
    {
      "cell_type": "code",
      "execution_count": 221,
      "metadata": {
        "colab": {
          "base_uri": "https://localhost:8080/"
        },
        "id": "qvff21Hv8zjk",
        "outputId": "4aa2923a-2e47-4e05-c9cc-42fce5e6a04d"
      },
      "outputs": [],
      "source": [
        "LOCAL_DEV = True # to switch between developing locally and on colab\n",
        "\n",
        "if not LOCAL_DEV:\n",
        "    # TODO: need to upload data files on Google Drive?\n",
        "    from google.colab import drive\n",
        "    drive.mount('/content/drive')"
      ]
    },
    {
      "cell_type": "code",
      "execution_count": 222,
      "metadata": {},
      "outputs": [
        {
          "name": "stdout",
          "output_type": "stream",
          "text": [
            "Requirement already satisfied: contractions in /Users/kaiyuancui/opt/anaconda3/lib/python3.9/site-packages (0.1.73)\n",
            "Requirement already satisfied: textsearch>=0.0.21 in /Users/kaiyuancui/opt/anaconda3/lib/python3.9/site-packages (from contractions) (0.0.24)\n",
            "Requirement already satisfied: anyascii in /Users/kaiyuancui/opt/anaconda3/lib/python3.9/site-packages (from textsearch>=0.0.21->contractions) (0.3.2)\n",
            "Requirement already satisfied: pyahocorasick in /Users/kaiyuancui/opt/anaconda3/lib/python3.9/site-packages (from textsearch>=0.0.21->contractions) (2.1.0)\n",
            "Note: you may need to restart the kernel to use updated packages.\n"
          ]
        }
      ],
      "source": [
        "pip install contractions"
      ]
    },
    {
      "cell_type": "code",
      "execution_count": 223,
      "metadata": {
        "id": "MH1Hdrb5NmHM"
      },
      "outputs": [],
      "source": [
        "#Imports\n",
        "import numpy as np\n",
        "import torch\n",
        "import pandas as pd"
      ]
    },
    {
      "cell_type": "code",
      "execution_count": 224,
      "metadata": {
        "colab": {
          "base_uri": "https://localhost:8080/",
          "height": 339
        },
        "id": "2piZvV4OMSa3",
        "outputId": "b17e35ee-0c98-48b9-aa69-f6b63d336059"
      },
      "outputs": [
        {
          "data": {
            "text/html": [
              "<div>\n",
              "<style scoped>\n",
              "    .dataframe tbody tr th:only-of-type {\n",
              "        vertical-align: middle;\n",
              "    }\n",
              "\n",
              "    .dataframe tbody tr th {\n",
              "        vertical-align: top;\n",
              "    }\n",
              "\n",
              "    .dataframe thead th {\n",
              "        text-align: right;\n",
              "    }\n",
              "</style>\n",
              "<table border=\"1\" class=\"dataframe\">\n",
              "  <thead>\n",
              "    <tr style=\"text-align: right;\">\n",
              "      <th></th>\n",
              "      <th>claim_text</th>\n",
              "      <th>claim_label</th>\n",
              "      <th>evidences</th>\n",
              "    </tr>\n",
              "  </thead>\n",
              "  <tbody>\n",
              "    <tr>\n",
              "      <th>claim-1937</th>\n",
              "      <td>Not only is there no scientific evidence that ...</td>\n",
              "      <td>DISPUTED</td>\n",
              "      <td>[evidence-442946, evidence-1194317, evidence-1...</td>\n",
              "    </tr>\n",
              "    <tr>\n",
              "      <th>claim-126</th>\n",
              "      <td>El Niño drove record highs in global temperatu...</td>\n",
              "      <td>REFUTES</td>\n",
              "      <td>[evidence-338219, evidence-1127398]</td>\n",
              "    </tr>\n",
              "    <tr>\n",
              "      <th>claim-2510</th>\n",
              "      <td>In 1946, PDO switched to a cool phase.</td>\n",
              "      <td>SUPPORTS</td>\n",
              "      <td>[evidence-530063, evidence-984887]</td>\n",
              "    </tr>\n",
              "    <tr>\n",
              "      <th>claim-2021</th>\n",
              "      <td>Weather Channel co-founder John Coleman provid...</td>\n",
              "      <td>DISPUTED</td>\n",
              "      <td>[evidence-1177431, evidence-782448, evidence-5...</td>\n",
              "    </tr>\n",
              "    <tr>\n",
              "      <th>claim-2449</th>\n",
              "      <td>\"January 2008 capped a 12 month period of glob...</td>\n",
              "      <td>NOT_ENOUGH_INFO</td>\n",
              "      <td>[evidence-1010750, evidence-91661, evidence-72...</td>\n",
              "    </tr>\n",
              "  </tbody>\n",
              "</table>\n",
              "</div>"
            ],
            "text/plain": [
              "                                                   claim_text  \\\n",
              "claim-1937  Not only is there no scientific evidence that ...   \n",
              "claim-126   El Niño drove record highs in global temperatu...   \n",
              "claim-2510             In 1946, PDO switched to a cool phase.   \n",
              "claim-2021  Weather Channel co-founder John Coleman provid...   \n",
              "claim-2449  \"January 2008 capped a 12 month period of glob...   \n",
              "\n",
              "                claim_label                                          evidences  \n",
              "claim-1937         DISPUTED  [evidence-442946, evidence-1194317, evidence-1...  \n",
              "claim-126           REFUTES                [evidence-338219, evidence-1127398]  \n",
              "claim-2510         SUPPORTS                 [evidence-530063, evidence-984887]  \n",
              "claim-2021         DISPUTED  [evidence-1177431, evidence-782448, evidence-5...  \n",
              "claim-2449  NOT_ENOUGH_INFO  [evidence-1010750, evidence-91661, evidence-72...  "
            ]
          },
          "execution_count": 224,
          "metadata": {},
          "output_type": "execute_result"
        }
      ],
      "source": [
        "#visualising training data\n",
        "if LOCAL_DEV:\n",
        "    train = pd.read_json(\"../data/train-claims.json\") # for local dev\n",
        "    \n",
        "else:\n",
        "    train = pd.read_json(\"/content/drive/MyDrive/data/train-claims.json\") # on colab\n",
        "train = train.transpose()\n",
        "train.head()\n"
      ]
    },
    {
      "cell_type": "code",
      "execution_count": 282,
      "metadata": {},
      "outputs": [
        {
          "data": {
            "text/plain": [
              "claim_text     [South Australia] has the most expensive elect...\n",
              "claim_label                                             SUPPORTS\n",
              "evidences                      [evidence-67732, evidence-572512]\n",
              "Name: claim-752, dtype: object"
            ]
          },
          "execution_count": 282,
          "metadata": {},
          "output_type": "execute_result"
        }
      ],
      "source": [
        "if LOCAL_DEV:\n",
        "    test = pd.read_json(\"../data/test-claims-unlabelled.json\") # for local dev\n",
        "    dev_data = pd.read_json(\"../data/dev-claims.json\")\n",
        "else:\n",
        "    test = pd.read_json(\"/content/drive/MyDrive/data/test-claims-unlabelled.json\") # on colab\n",
        "test = test.transpose()\n",
        "dev_data = dev_data.transpose()\n",
        "test.head()\n",
        "\n",
        "dev_data.head()\n"
      ]
    },
    {
      "cell_type": "code",
      "execution_count": 226,
      "metadata": {
        "id": "ZKbGFcA2THHP"
      },
      "outputs": [],
      "source": [
        "#visualising evidence data\n",
        "if LOCAL_DEV:\n",
        "    evidence = pd.read_json(\"../data/evidence.json\",typ='series')\n",
        "else:\n",
        "    evidence = pd.read_json(\"/content/drive/MyDrive/data/evidence.json\",typ='series')"
      ]
    },
    {
      "cell_type": "code",
      "execution_count": 227,
      "metadata": {
        "colab": {
          "base_uri": "https://localhost:8080/"
        },
        "id": "cFNTiC0UMS45",
        "outputId": "a55e84f3-4f1c-4039-8fe0-cd2e8f2d13b1"
      },
      "outputs": [
        {
          "name": "stdout",
          "output_type": "stream",
          "text": [
            "1208827\n"
          ]
        },
        {
          "data": {
            "text/plain": [
              "evidence-0    John Bennet Lawes, English entrepreneur and ag...\n",
              "evidence-1    Lindberg began his professional career at the ...\n",
              "evidence-2    ``Boston (Ladies of Cambridge)'' by Vampire We...\n",
              "evidence-3    Gerald Francis Goyer (born October 20, 1936) w...\n",
              "evidence-4    He detected abnormalities of oxytocinergic fun...\n",
              "dtype: object"
            ]
          },
          "execution_count": 227,
          "metadata": {},
          "output_type": "execute_result"
        }
      ],
      "source": [
        "print(len(evidence))\n",
        "evidence.head()"
      ]
    },
    {
      "cell_type": "code",
      "execution_count": 228,
      "metadata": {},
      "outputs": [
        {
          "name": "stderr",
          "output_type": "stream",
          "text": [
            "[nltk_data] Downloading package stopwords to\n",
            "[nltk_data]     /Users/kaiyuancui/nltk_data...\n",
            "[nltk_data]   Package stopwords is already up-to-date!\n",
            "[nltk_data] Downloading package punkt to\n",
            "[nltk_data]     /Users/kaiyuancui/nltk_data...\n",
            "[nltk_data]   Package punkt is already up-to-date!\n",
            "[nltk_data] Downloading package wordnet to\n",
            "[nltk_data]     /Users/kaiyuancui/nltk_data...\n",
            "[nltk_data]   Package wordnet is already up-to-date!\n"
          ]
        },
        {
          "data": {
            "text/plain": [
              "True"
            ]
          },
          "execution_count": 228,
          "metadata": {},
          "output_type": "execute_result"
        }
      ],
      "source": [
        "import string\n",
        "import contractions\n",
        "from collections import defaultdict\n",
        "import nltk\n",
        "from nltk.corpus import stopwords\n",
        "from nltk.stem import WordNetLemmatizer\n",
        "from nltk.tokenize import word_tokenize\n",
        "\n",
        "nltk.download('stopwords')\n",
        "nltk.download('punkt')\n",
        "nltk.download('wordnet')"
      ]
    },
    {
      "cell_type": "code",
      "execution_count": 297,
      "metadata": {
        "id": "Xf73PDzRTrft"
      },
      "outputs": [
        {
          "data": {
            "text/plain": [
              "claim-2967               contribution waste heat global climate\n",
              "claim-979     warm weather worsened recent drought included ...\n",
              "claim-1609                greenland lost tiny fraction ice mass\n",
              "claim-1020    global reef crisis not necessarily mean extinc...\n",
              "claim-2599     small amount active substance cause large effect\n",
              "dtype: object"
            ]
          },
          "execution_count": 297,
          "metadata": {},
          "output_type": "execute_result"
        }
      ],
      "source": [
        "def preprocess_data(data: pd.Series) -> pd.Series:\n",
        "  preprocessed_data = {}\n",
        "  stop_words = set(stopwords.words('english'))\n",
        "  stop_words.remove('not')\n",
        "  for id, text in data.items():\n",
        "    text = text.lower()\n",
        "    text = contractions.fix(text)\n",
        "    tokens = word_tokenize(text)\n",
        "    wnl = WordNetLemmatizer()\n",
        "    lemmatized_tokens = [wnl.lemmatize(word) for word in tokens if word.isalpha() and word not in stop_words]\n",
        "    preprocessed_data[id] = \" \".join(lemmatized_tokens)\n",
        "\n",
        "  return pd.Series(preprocessed_data)\n",
        "\n",
        "\n",
        "train_claims = train['claim_text']\n",
        "test_claims = test['claim_text']\n",
        "dev_claims = dev_data['claim_text']\n",
        "processed_evidence = preprocess_data(evidence)\n",
        "processed_test = preprocess_data(test_claims)\n",
        "processed_dev = preprocess_data(dev_claims)\n",
        "\n",
        "processed_train_claim = preprocess_data(train_claims)\n",
        "processed_dev_claim = preprocess_data(dev_claims)\n",
        "processed_test.head()"
      ]
    },
    {
      "cell_type": "code",
      "execution_count": 230,
      "metadata": {},
      "outputs": [],
      "source": [
        "processed_evidence = processed_evidence[processed_evidence.str.strip().str.len() > 0]\n"
      ]
    },
    {
      "cell_type": "code",
      "execution_count": 373,
      "metadata": {},
      "outputs": [],
      "source": [
        "# Try to use the model on unseen test claims:\n",
        "# Get all evidences that are likely to be relevant using a similarity score\n",
        "\n",
        "# Vectorizing preprocessed text\n",
        "# TODO: replace Tfidf with contextual embedding\n",
        "\n",
        "TOP_N = 20\n",
        "\n",
        "vectorizer = TfidfVectorizer()\n",
        "all_texts = pd.concat([processed_evidence, processed_train_claim])\n",
        "vectorizer.fit(all_texts)\n",
        "\n",
        "evidence_tfidf = vectorizer.transform(processed_evidence)\n",
        "test_tfidf = vectorizer.transform(processed_test)\n",
        "train_tfidf = vectorizer.transform(processed_train_claim)\n",
        "dev_tfidf = vectorizer.transform(processed_dev)\n",
        "\n",
        "similarity_matrix = cosine_similarity(test_tfidf, evidence_tfidf)\n",
        "\n",
        "dev_similarity_matrix = cosine_similarity(dev_tfidf, evidence_tfidf)\n",
        "train_similarity_matrix = cosine_similarity(train_tfidf, evidence_tfidf)\n",
        "def getTopN(similarity_matrix, test, evidence, n):\n",
        "  test = test.to_frame(name='claim_text')\n",
        "  top_indices = np.argsort(-similarity_matrix, axis = 1)[:, :n]\n",
        "  top_evidence = [[str(evidence.index[i]) for i in row] for row in top_indices]\n",
        "  test['evidences'] = top_evidence\n",
        "  return test\n",
        "\n",
        "test_with_evi = getTopN(similarity_matrix, processed_test, processed_evidence, TOP_N)\n",
        "test_with_evi.head()\n",
        "\n",
        "dev_with_evi = getTopN(dev_similarity_matrix, processed_dev, processed_evidence, TOP_N)\n",
        "train_with_evi = getTopN(train_similarity_matrix, processed_train_claim, processed_evidence, TOP_N)"
      ]
    },
    {
      "cell_type": "code",
      "execution_count": 316,
      "metadata": {},
      "outputs": [
        {
          "data": {
            "text/html": [
              "<div>\n",
              "<style scoped>\n",
              "    .dataframe tbody tr th:only-of-type {\n",
              "        vertical-align: middle;\n",
              "    }\n",
              "\n",
              "    .dataframe tbody tr th {\n",
              "        vertical-align: top;\n",
              "    }\n",
              "\n",
              "    .dataframe thead th {\n",
              "        text-align: right;\n",
              "    }\n",
              "</style>\n",
              "<table border=\"1\" class=\"dataframe\">\n",
              "  <thead>\n",
              "    <tr style=\"text-align: right;\">\n",
              "      <th></th>\n",
              "      <th>claim_text</th>\n",
              "      <th>evidences</th>\n",
              "    </tr>\n",
              "  </thead>\n",
              "  <tbody>\n",
              "    <tr>\n",
              "      <th>claim-2967</th>\n",
              "      <td>contribution waste heat global climate</td>\n",
              "      <td>[evidence-308923, evidence-213569, evidence-63...</td>\n",
              "    </tr>\n",
              "    <tr>\n",
              "      <th>claim-979</th>\n",
              "      <td>warm weather worsened recent drought included ...</td>\n",
              "      <td>[evidence-178433, evidence-421870, evidence-43...</td>\n",
              "    </tr>\n",
              "    <tr>\n",
              "      <th>claim-1609</th>\n",
              "      <td>greenland lost tiny fraction ice mass</td>\n",
              "      <td>[evidence-962481, evidence-1200633, evidence-7...</td>\n",
              "    </tr>\n",
              "    <tr>\n",
              "      <th>claim-1020</th>\n",
              "      <td>global reef crisis not necessarily mean extinc...</td>\n",
              "      <td>[evidence-642301, evidence-161852, evidence-67...</td>\n",
              "    </tr>\n",
              "    <tr>\n",
              "      <th>claim-2599</th>\n",
              "      <td>small amount active substance cause large effect</td>\n",
              "      <td>[evidence-834109, evidence-1175545, evidence-8...</td>\n",
              "    </tr>\n",
              "  </tbody>\n",
              "</table>\n",
              "</div>"
            ],
            "text/plain": [
              "                                                   claim_text  \\\n",
              "claim-2967             contribution waste heat global climate   \n",
              "claim-979   warm weather worsened recent drought included ...   \n",
              "claim-1609              greenland lost tiny fraction ice mass   \n",
              "claim-1020  global reef crisis not necessarily mean extinc...   \n",
              "claim-2599   small amount active substance cause large effect   \n",
              "\n",
              "                                                    evidences  \n",
              "claim-2967  [evidence-308923, evidence-213569, evidence-63...  \n",
              "claim-979   [evidence-178433, evidence-421870, evidence-43...  \n",
              "claim-1609  [evidence-962481, evidence-1200633, evidence-7...  \n",
              "claim-1020  [evidence-642301, evidence-161852, evidence-67...  \n",
              "claim-2599  [evidence-834109, evidence-1175545, evidence-8...  "
            ]
          },
          "execution_count": 316,
          "metadata": {},
          "output_type": "execute_result"
        }
      ],
      "source": [
        "test_with_evi.head()\n",
        "#processed_train_claim.head()\n",
        "#processed_evidence.head()"
      ]
    },
    {
      "cell_type": "code",
      "execution_count": 405,
      "metadata": {
        "id": "yHWbo7W7TuUC"
      },
      "outputs": [
        {
          "data": {
            "text/html": [
              "<div>\n",
              "<style scoped>\n",
              "    .dataframe tbody tr th:only-of-type {\n",
              "        vertical-align: middle;\n",
              "    }\n",
              "\n",
              "    .dataframe tbody tr th {\n",
              "        vertical-align: top;\n",
              "    }\n",
              "\n",
              "    .dataframe thead th {\n",
              "        text-align: right;\n",
              "    }\n",
              "</style>\n",
              "<table border=\"1\" class=\"dataframe\">\n",
              "  <thead>\n",
              "    <tr style=\"text-align: right;\">\n",
              "      <th></th>\n",
              "      <th>text</th>\n",
              "      <th>label</th>\n",
              "    </tr>\n",
              "  </thead>\n",
              "  <tbody>\n",
              "    <tr>\n",
              "      <th>0</th>\n",
              "      <td>Not only is there no scientific evidence that ...</td>\n",
              "      <td>related</td>\n",
              "    </tr>\n",
              "    <tr>\n",
              "      <th>1</th>\n",
              "      <td>Not only is there no scientific evidence that ...</td>\n",
              "      <td>related</td>\n",
              "    </tr>\n",
              "    <tr>\n",
              "      <th>2</th>\n",
              "      <td>Not only is there no scientific evidence that ...</td>\n",
              "      <td>related</td>\n",
              "    </tr>\n",
              "    <tr>\n",
              "      <th>3</th>\n",
              "      <td>Not only is there no scientific evidence that ...</td>\n",
              "      <td>unrelated</td>\n",
              "    </tr>\n",
              "    <tr>\n",
              "      <th>4</th>\n",
              "      <td>Not only is there no scientific evidence that ...</td>\n",
              "      <td>unrelated</td>\n",
              "    </tr>\n",
              "    <tr>\n",
              "      <th>...</th>\n",
              "      <td>...</td>\n",
              "      <td>...</td>\n",
              "    </tr>\n",
              "    <tr>\n",
              "      <th>24555</th>\n",
              "      <td>Sending oscillating microwaves from an antenna...</td>\n",
              "      <td>unrelated</td>\n",
              "    </tr>\n",
              "    <tr>\n",
              "      <th>24556</th>\n",
              "      <td>Sending oscillating microwaves from an antenna...</td>\n",
              "      <td>unrelated</td>\n",
              "    </tr>\n",
              "    <tr>\n",
              "      <th>24557</th>\n",
              "      <td>Sending oscillating microwaves from an antenna...</td>\n",
              "      <td>unrelated</td>\n",
              "    </tr>\n",
              "    <tr>\n",
              "      <th>24558</th>\n",
              "      <td>Sending oscillating microwaves from an antenna...</td>\n",
              "      <td>unrelated</td>\n",
              "    </tr>\n",
              "    <tr>\n",
              "      <th>24559</th>\n",
              "      <td>Sending oscillating microwaves from an antenna...</td>\n",
              "      <td>unrelated</td>\n",
              "    </tr>\n",
              "  </tbody>\n",
              "</table>\n",
              "<p>24560 rows × 2 columns</p>\n",
              "</div>"
            ],
            "text/plain": [
              "                                                    text      label\n",
              "0      Not only is there no scientific evidence that ...    related\n",
              "1      Not only is there no scientific evidence that ...    related\n",
              "2      Not only is there no scientific evidence that ...    related\n",
              "3      Not only is there no scientific evidence that ...  unrelated\n",
              "4      Not only is there no scientific evidence that ...  unrelated\n",
              "...                                                  ...        ...\n",
              "24555  Sending oscillating microwaves from an antenna...  unrelated\n",
              "24556  Sending oscillating microwaves from an antenna...  unrelated\n",
              "24557  Sending oscillating microwaves from an antenna...  unrelated\n",
              "24558  Sending oscillating microwaves from an antenna...  unrelated\n",
              "24559  Sending oscillating microwaves from an antenna...  unrelated\n",
              "\n",
              "[24560 rows x 2 columns]"
            ]
          },
          "execution_count": 405,
          "metadata": {},
          "output_type": "execute_result"
        }
      ],
      "source": [
        "# format data for the transformer\n",
        "\n",
        "SPECIAL_TOKEN = ' <SPE_TOKEN> '\n",
        "\n",
        "def format_for_transformer(processed_evidence, similar_claim_evidence, true_claim_evidence):\n",
        "    text_lst = []\n",
        "    label_lst = []\n",
        "    for index, row in true_claim_evidence.iterrows():\n",
        "        #print(index)\n",
        "        if index in similar_claim_evidence.index:\n",
        "            similar_claim_evidence_row = similar_claim_evidence.loc[index]\n",
        "            \n",
        "        else:\n",
        "            print(index + \" NOT FOUND IN TOP N EVIDENCE!\")\n",
        "            print(similar_claim_evidence.index)\n",
        "            continue\n",
        "        claim_text = row['claim_text']\n",
        "        true_evidence_list = row['evidences']\n",
        "        #print(len(true_evidence_list))\n",
        "        similar_evidence_list = similar_claim_evidence_row['evidences']\n",
        "        false_evidence_list =  list(set(similar_evidence_list) - set(true_evidence_list))\n",
        "       # print(len(false_evidence_list))\n",
        "        for evidence in true_evidence_list:\n",
        "            evidence_text = processed_evidence[evidence]\n",
        "            text = claim_text + SPECIAL_TOKEN + evidence_text\n",
        "            text_lst.append(text)\n",
        "            label_lst.append('related')\n",
        "        for evidence in false_evidence_list[:TOP_N-len(true_evidence_list)]:\n",
        "            evidence_text = processed_evidence[evidence]\n",
        "            text = claim_text + SPECIAL_TOKEN + evidence_text\n",
        "            text_lst.append(text)\n",
        "            label_lst.append('unrelated')\n",
        "\n",
        "\n",
        "    claim_evi_label = {'text': text_lst, 'label': label_lst}\n",
        "    return pd.DataFrame(claim_evi_label)\n",
        "\n",
        "preparedTrain = format_for_transformer(processed_evidence, train_with_evi, train)\n",
        "preparedDev= format_for_transformer(processed_evidence, dev_with_evi, dev_data)\n",
        "# preparedTrain = prepareTrainData(10)\n",
        "# preparedDev = prepareDevData(10)\n",
        "preparedTrain\n",
        "#preparedDev.head()"
      ]
    },
    {
      "cell_type": "code",
      "execution_count": null,
      "metadata": {},
      "outputs": [],
      "source": []
    },
    {
      "cell_type": "code",
      "execution_count": null,
      "metadata": {
        "vscode": {
          "languageId": "shellscript"
        }
      },
      "outputs": [],
      "source": [
        "# need later versions for torchtext.transforms and special\n",
        "#pip install torchtext==0.18.0 "
      ]
    },
    {
      "cell_type": "markdown",
      "metadata": {
        "id": "bnNiS5byTvJM"
      },
      "source": [
        "# Two steps for the this task\n",
        "# first. find all relavent evidence, either use contextual embedding or similarity scoring\n",
        "# second. classify the evidents into 4 classes."
      ]
    },
    {
      "cell_type": "markdown",
      "metadata": {
        "id": "1FA2ao2l8hOg"
      },
      "source": [
        "# 2. Model Implementation\n",
        "(You can add as many code blocks and text blocks as you need. However, YOU SHOULD NOT MODIFY the section title)"
      ]
    },
    {
      "cell_type": "code",
      "execution_count": 241,
      "metadata": {
        "id": "QIEqDDT78q39"
      },
      "outputs": [],
      "source": [
        "from sklearn.feature_extraction.text import TfidfVectorizer\n",
        "from sklearn.metrics.pairwise import cosine_similarity\n",
        "\n",
        "import torchtext\n",
        "from torchtext.data.utils import get_tokenizer\n",
        "from torch.utils.data import Dataset, DataLoader\n",
        "from torchtext.vocab import build_vocab_from_iterator\n",
        "import torchtext.transforms\n",
        "from torch.nn.utils.rnn import pad_sequence\n",
        "# No module named 'torchtext.transforms' ?"
      ]
    },
    {
      "cell_type": "code",
      "execution_count": null,
      "metadata": {},
      "outputs": [],
      "source": []
    },
    {
      "cell_type": "code",
      "execution_count": null,
      "metadata": {},
      "outputs": [],
      "source": []
    },
    {
      "cell_type": "code",
      "execution_count": null,
      "metadata": {},
      "outputs": [],
      "source": []
    },
    {
      "cell_type": "code",
      "execution_count": 409,
      "metadata": {},
      "outputs": [],
      "source": [
        "# tokenize and vectorise training data for relevance classification\n",
        "\n",
        "tokenizer = get_tokenizer(\"basic_english\")\n",
        "def yield_tokens(data_iter):\n",
        "    for text in data_iter:\n",
        "        yield tokenizer(text)\n",
        "\n",
        "vocab = build_vocab_from_iterator(yield_tokens(preparedTrain['text']), specials=[\"<unk>\"])\n",
        "vocab.set_default_index(vocab[\"<unk>\"])\n",
        "\n",
        "text_pipeline = lambda x: vocab(tokenizer(x))\n",
        "label_transform = torchtext.transforms.LabelToIndex({'related': 0, 'unrelated': 1})\n",
        "\n",
        "device = torch.device(\"cuda\" if torch.cuda.is_available() else \"cpu\")\n",
        "\n",
        "def collate_batch(batch):\n",
        "    text_list, label_list, offsets = [], [], [0]\n",
        "    for _text, _label in batch:\n",
        "        label_list.append(label_transform(_label))\n",
        "        processed_text = torch.tensor(text_pipeline(_text), dtype=torch.int64)\n",
        "        text_list.append(processed_text)\n",
        "        offsets.append(processed_text.size(0))\n",
        "    label_list = torch.tensor(label_list, dtype=torch.int64)\n",
        "    offsets = torch.tensor(offsets[:-1]).cumsum(dim=0)\n",
        "    # should stack instead of concat?\n",
        "    #text_list = torch.cat(text_list)\n",
        "   \n",
        "    # pad sequences to make them the same length \n",
        "    padded_sequences = pad_sequence(text_list, batch_first=True)\n",
        "\n",
        "    return padded_sequences.to(device), label_list.to(device), offsets.to(device)\n",
        "\n",
        "class TextDataset(Dataset):\n",
        "    def __init__(self, dataframe):\n",
        "        self.dataframe = dataframe\n",
        "\n",
        "    def __len__(self):\n",
        "        return len(self.dataframe)\n",
        "    \n",
        "    def __getitem__(self, idx):\n",
        "        row = self.dataframe.iloc[idx]\n",
        "        text = row['text'] \n",
        "        label = row['label'] \n",
        "        return text, label\n",
        "\n",
        "full_dataset = TextDataset(preparedTrain)\n",
        "dev_dataset = TextDataset(preparedDev)\n",
        "# train test split\n",
        "#train_size = int(0.8 * len(full_dataset))\n",
        "\n",
        "#val_size = len(full_dataset) - train_size \n",
        "# train_dataset, val_dataset = torch.utils.data.random_split(full_dataset, [train_size, val_size])\n",
        "# use dev data instead:\n",
        "\n",
        "train_dataloader = DataLoader(full_dataset, batch_size=20, shuffle=False, collate_fn=collate_batch)\n",
        "val_dataloader = DataLoader(dev_dataset, batch_size=20, shuffle=False, collate_fn=collate_batch)"
      ]
    },
    {
      "cell_type": "code",
      "execution_count": null,
      "metadata": {},
      "outputs": [],
      "source": [
        "\n"
      ]
    },
    {
      "cell_type": "code",
      "execution_count": 410,
      "metadata": {},
      "outputs": [
        {
          "name": "stderr",
          "output_type": "stream",
          "text": [
            "/Users/kaiyuancui/opt/anaconda3/lib/python3.9/site-packages/torch/nn/modules/transformer.py:306: UserWarning: enable_nested_tensor is True, but self.use_nested_tensor is False because encoder_layer.self_attn.batch_first was not True(use batch_first for better inference performance)\n",
            "  warnings.warn(f\"enable_nested_tensor is True, but self.use_nested_tensor is False because {why_not_sparsity_fast_path}\")\n"
          ]
        }
      ],
      "source": [
        "# initialise the relevance classification model\n",
        "# NOTE: run the OOP code first!\n",
        "device = torch.device(\"cuda\" if torch.cuda.is_available() else \"cpu\")\n",
        "\n",
        "ntokens = len(vocab) # TODO: verify correctness of this\n",
        "\n",
        "emsize = 200 # embedding dimension\n",
        "nhid = 200 # the dimension of the feedforward network model in nn.TransformerEncoder\n",
        "nlayers = 2 # the number of nn.TransformerEncoderLayer in nn.TransformerEncoder\n",
        "nhead = 2 # the number of heads in the multiheadattention models\n",
        "dropout = 0.2 # the dropout value\n",
        "\n",
        "model = TransformerClassificationModel(ntokens, emsize, nhead, nhid, nlayers, 2, dropout).to(device)"
      ]
    },
    {
      "cell_type": "code",
      "execution_count": 411,
      "metadata": {},
      "outputs": [
        {
          "name": "stdout",
          "output_type": "stream",
          "text": [
            "-----------------------------------------------------------------------------------------\n",
            "| end of epoch   1 | time: 60.07s | valid loss  3.14 | valid ppl    23.18\n",
            "-----------------------------------------------------------------------------------------\n",
            "-----------------------------------------------------------------------------------------\n",
            "| end of epoch   2 | time: 58.64s | valid loss  3.40 | valid ppl    29.91\n",
            "-----------------------------------------------------------------------------------------\n",
            "-----------------------------------------------------------------------------------------\n",
            "| end of epoch   3 | time: 69.49s | valid loss  3.58 | valid ppl    35.87\n",
            "-----------------------------------------------------------------------------------------\n"
          ]
        }
      ],
      "source": [
        "# train model\n",
        "import math\n",
        "import torch.nn as nn\n",
        "criterion = nn.CrossEntropyLoss()\n",
        "lr = 1.0 # learning rate\n",
        "optimizer = torch.optim.SGD(model.parameters(), lr=lr)\n",
        "\n",
        "# TODO: figure out what this does and decide if it's needed in train\n",
        "scheduler = torch.optim.lr_scheduler.StepLR(optimizer, 1.0, gamma=0.95)\n",
        "\n",
        "import time\n",
        "\n",
        "def train_model(train_data_loader, model):\n",
        "\n",
        "    model.train() # Turn on the train mode\n",
        "    for inputs, labels, offsets in train_data_loader:\n",
        "        optimizer.zero_grad()\n",
        "        outputs = model(inputs)\n",
        "        loss = criterion(outputs, labels)\n",
        "        loss.backward()\n",
        "        clipping_value = 1 # arbitrary value of your choosing\n",
        "        # training unstable? https://stackoverflow.com/questions/66625645/why-does-my-pytorch-nn-return-a-tensor-of-nan\n",
        "        torch.nn.utils.clip_grad_norm_(model.parameters(), clipping_value) # https://stackoverflow.com/questions/54716377/how-to-do-gradient-clipping-in-pytorch\n",
        "        optimizer.step()\n",
        "\n",
        "\n",
        "def evaluate(val_data_loader, eval_model):\n",
        "    eval_model.eval() # Turn on the evaluation mode\n",
        "    total_loss = 0.\n",
        "\n",
        "    with torch.no_grad():\n",
        "       \n",
        "        for inputs, labels, offsets in val_data_loader:\n",
        "          \n",
        "            output = eval_model(inputs)\n",
        "            # output_flat = output.view(-1, ntokens) do we need to do this?\n",
        "            total_loss += len(inputs) * criterion(output, labels).item()\n",
        "    return total_loss / (len(val_data_loader) - 1)\n",
        "\n",
        "\n",
        "\n",
        "\n",
        "best_val_loss = float(\"inf\")\n",
        "epochs = 3 # The number of epochs\n",
        "best_model = None\n",
        "#train(dataloader, model)\n",
        "for epoch in range(1, epochs + 1):\n",
        "    epoch_start_time = time.time()\n",
        "\n",
        "    train_model(train_dataloader, model)\n",
        "    val_loss = evaluate(val_dataloader, model) \n",
        "    print('-' * 89)\n",
        "    print('| end of epoch {:3d} | time: {:5.2f}s | valid loss {:5.2f} | '\n",
        "          'valid ppl {:8.2f}'.format(epoch, (time.time() - epoch_start_time),\n",
        "                                     val_loss, math.exp(val_loss)))\n",
        "    print('-' * 89)\n",
        "\n",
        "    if val_loss < best_val_loss:\n",
        "        best_val_loss = val_loss\n",
        "        best_model = model\n",
        "\n",
        "    scheduler.step()\n"
      ]
    },
    {
      "cell_type": "code",
      "execution_count": null,
      "metadata": {},
      "outputs": [],
      "source": []
    },
    {
      "cell_type": "code",
      "execution_count": 412,
      "metadata": {},
      "outputs": [
        {
          "name": "stdout",
          "output_type": "stream",
          "text": [
            "('[South Australia] has the most expensive electricity in the world. <SPE_TOKEN> citation needed south australia highest retail price electricity country', 'related')\n",
            "tensor([   0,    0,   30,    1,  117, 2138,  449,    8,    1,   98,    2,    3,\n",
            "        2044, 1317,  373,  398,  550, 7728,  499,  449,  333,    0,    0,    0])\n",
            "tensor([0, 0, 1, 1, 1, 1, 1, 1, 1, 1, 1, 1, 1, 1, 1, 1, 1, 1, 1, 1])\n",
            "tensor([0, 0, 1, 1, 1, 1, 1, 1, 1, 1, 1, 1, 1, 1, 1, 1, 1, 1, 1, 1])\n"
          ]
        }
      ],
      "source": [
        "# sanity check\n",
        "\n",
        "print(dev_dataset[0])\n",
        "val_batch = next(iter(val_dataloader))\n",
        "print(val_batch[0][0]) # first input\n",
        "print(val_batch[1]) # labels\n",
        "\n",
        "test_outputs = model(val_batch[0])\n",
        "predicted_labels = torch.argmax(test_outputs, dim=1)\n",
        "\n",
        "print(predicted_labels)\n",
        "    "
      ]
    },
    {
      "cell_type": "code",
      "execution_count": null,
      "metadata": {},
      "outputs": [],
      "source": []
    },
    {
      "cell_type": "markdown",
      "metadata": {
        "id": "EzGuzHPE87Ya"
      },
      "source": [
        "# 3.Testing and Evaluation\n",
        "(You can add as many code blocks and text blocks as you need. However, YOU SHOULD NOT MODIFY the section title)"
      ]
    },
    {
      "cell_type": "code",
      "execution_count": 413,
      "metadata": {
        "id": "6ZVeNYIH9IaL"
      },
      "outputs": [
        {
          "name": "stdout",
          "output_type": "stream",
          "text": [
            "=========================================================================================\n",
            "| End of training | test loss  3.58 | test ppl    35.87\n",
            "=========================================================================================\n",
            "              precision    recall  f1-score   support\n",
            "\n",
            "     related       0.76      0.85      0.80       491\n",
            "   unrelated       0.97      0.95      0.96      2589\n",
            "\n",
            "    accuracy                           0.93      3080\n",
            "   macro avg       0.87      0.90      0.88      3080\n",
            "weighted avg       0.94      0.93      0.93      3080\n",
            "\n"
          ]
        }
      ],
      "source": [
        "from sklearn.metrics import classification_report\n",
        "def get_classification_report(val_data_loader, eval_model):\n",
        "    model.eval()\n",
        "\n",
        "\n",
        "    y_true = []\n",
        "    y_pred = []\n",
        "\n",
        "    for inputs, labels, offsets in val_data_loader:\n",
        "        outputs = model(inputs)\n",
        "        predicted_labels = torch.argmax(outputs, dim=1)\n",
        "        y_true += labels\n",
        "        y_pred += predicted_labels\n",
        "    \n",
        "\n",
        "    return classification_report(y_true, y_pred, target_names=['related', 'unrelated'])\n",
        "\n",
        "test_loss = evaluate(val_dataloader, best_model) \n",
        "test_report = get_classification_report(val_dataloader, best_model)\n",
        "\n",
        "print('=' * 89)\n",
        "print('| End of training | test loss {:5.2f} | test ppl {:8.2f}'.format(\n",
        "    test_loss, math.exp(test_loss)))\n",
        "print('=' * 89)\n",
        "\n",
        "print(test_report)\n"
      ]
    },
    {
      "cell_type": "code",
      "execution_count": 249,
      "metadata": {},
      "outputs": [],
      "source": []
    },
    {
      "cell_type": "code",
      "execution_count": 385,
      "metadata": {},
      "outputs": [],
      "source": [
        "\n",
        "# format test data to be put into model\n",
        "def prepareTestData():\n",
        "    tfidf_claim = test_with_evi['claim_text']\n",
        "    tfidf_evi = test_with_evi['evidences']\n",
        "    text_lst = []\n",
        "    for i in range(len(tfidf_claim)):\n",
        "        test_claim = tfidf_claim[i]\n",
        "        evidences = tfidf_evi[i]\n",
        "        for j in evidences:\n",
        "            text = test_claim + SPECIAL_TOKEN + processed_evidence[j]\n",
        "            text_lst.append(text)\n",
        "    claim_evi = {'text': text_lst, 'label':'unrelated'} # still include the label field to avoid index error\n",
        "    return pd.DataFrame(claim_evi)\n",
        "\n",
        "preparedTest = prepareTestData()\n",
        "preparedTest.head()\n",
        "test_dataset = TextDataset(preparedTest)\n",
        "test_dataloader = DataLoader(test_dataset, batch_size=20, shuffle=False, collate_fn=collate_batch)"
      ]
    },
    {
      "cell_type": "code",
      "execution_count": 414,
      "metadata": {},
      "outputs": [
        {
          "name": "stdout",
          "output_type": "stream",
          "text": [
            "Counter({1: 2534, 0: 546})\n"
          ]
        }
      ],
      "source": [
        "# manually check the results since we don't have the labels:\n",
        "from collections import Counter\n",
        "\n",
        "\n",
        "# print(test_dataset[0])\n",
        "# test_batch = next(iter(test_dataloader))\n",
        "# print(test_batch[0][0]) # first input\n",
        "\n",
        "# test_outputs = best_model(test_batch[0])\n",
        "# predicted_labels = torch.argmax(test_outputs, dim=1)\n",
        "# print(predicted_labels[0])\n",
        "\n",
        "\n",
        "def get_all_predictions(model, test_loader):\n",
        "    model.eval()\n",
        "    all_predictions = []\n",
        "    for inputs, _, _ in test_loader:\n",
        "        outputs = model(inputs)\n",
        "        predicted_labels = torch.argmax(outputs, dim=1)\n",
        "        all_predictions.extend(predicted_labels.cpu().numpy())\n",
        "    return all_predictions\n",
        "\n",
        "# check class imbalance\n",
        "def count_labels(predictions):\n",
        "    label_counts = Counter(predictions)\n",
        "    return label_counts\n",
        "\n",
        "\n",
        "# get all predictions\n",
        "\n",
        "# changed to dev data\n",
        "all_predictions = get_all_predictions(best_model, val_dataloader)\n",
        "print(count_labels(all_predictions))\n",
        "#print(all_predictions)\n",
        "\n"
      ]
    },
    {
      "cell_type": "code",
      "execution_count": 415,
      "metadata": {},
      "outputs": [
        {
          "name": "stdout",
          "output_type": "stream",
          "text": [
            "3080\n",
            "3080\n"
          ]
        },
        {
          "data": {
            "text/html": [
              "<div>\n",
              "<style scoped>\n",
              "    .dataframe tbody tr th:only-of-type {\n",
              "        vertical-align: middle;\n",
              "    }\n",
              "\n",
              "    .dataframe tbody tr th {\n",
              "        vertical-align: top;\n",
              "    }\n",
              "\n",
              "    .dataframe thead th {\n",
              "        text-align: right;\n",
              "    }\n",
              "</style>\n",
              "<table border=\"1\" class=\"dataframe\">\n",
              "  <thead>\n",
              "    <tr style=\"text-align: right;\">\n",
              "      <th></th>\n",
              "      <th>text</th>\n",
              "      <th>evidences</th>\n",
              "      <th>claim_label</th>\n",
              "    </tr>\n",
              "  </thead>\n",
              "  <tbody>\n",
              "    <tr>\n",
              "      <th>claim-752</th>\n",
              "      <td>south australia expensive electricity world</td>\n",
              "      <td>[evidence-421845, evidence-995049]</td>\n",
              "      <td>not there yet</td>\n",
              "    </tr>\n",
              "    <tr>\n",
              "      <th>claim-375</th>\n",
              "      <td>per cent total annual global emission carbon d...</td>\n",
              "      <td>[evidence-1140012, evidence-1011788, evidence-...</td>\n",
              "      <td>not there yet</td>\n",
              "    </tr>\n",
              "    <tr>\n",
              "      <th>claim-1266</th>\n",
              "      <td>mean world warmer time</td>\n",
              "      <td>[evidence-694262, evidence-402339, evidence-16...</td>\n",
              "      <td>not there yet</td>\n",
              "    </tr>\n",
              "    <tr>\n",
              "      <th>claim-871</th>\n",
              "      <td>happens zika may also good model second worryi...</td>\n",
              "      <td>[evidence-336512, evidence-472751, evidence-54...</td>\n",
              "      <td>not there yet</td>\n",
              "    </tr>\n",
              "    <tr>\n",
              "      <th>claim-2164</th>\n",
              "      <td>greenland lost tiny fraction ice mass</td>\n",
              "      <td>[evidence-962481, evidence-1200633, evidence-7...</td>\n",
              "      <td>not there yet</td>\n",
              "    </tr>\n",
              "  </tbody>\n",
              "</table>\n",
              "</div>"
            ],
            "text/plain": [
              "                                                         text  \\\n",
              "claim-752         south australia expensive electricity world   \n",
              "claim-375   per cent total annual global emission carbon d...   \n",
              "claim-1266                             mean world warmer time   \n",
              "claim-871   happens zika may also good model second worryi...   \n",
              "claim-2164              greenland lost tiny fraction ice mass   \n",
              "\n",
              "                                                    evidences    claim_label  \n",
              "claim-752                  [evidence-421845, evidence-995049]  not there yet  \n",
              "claim-375   [evidence-1140012, evidence-1011788, evidence-...  not there yet  \n",
              "claim-1266  [evidence-694262, evidence-402339, evidence-16...  not there yet  \n",
              "claim-871   [evidence-336512, evidence-472751, evidence-54...  not there yet  \n",
              "claim-2164  [evidence-962481, evidence-1200633, evidence-7...  not there yet  "
            ]
          },
          "execution_count": 415,
          "metadata": {},
          "output_type": "execute_result"
        }
      ],
      "source": [
        "# update test_with_evi with model results\n",
        "\n",
        "def filter_relevant_evidences(claim_evidences, model_classifications, default=True):\n",
        "    claims = claim_evidences['claim_text']\n",
        "    evidences = claim_evidences['evidences']\n",
        "    filtered_evidences = []\n",
        "\n",
        "\n",
        "    classifications_index = 0\n",
        "    for i in range(len(claims)):\n",
        "        claim = claims[i]\n",
        "        curr_evidences = evidences[i]\n",
        "        curr_filtered = []\n",
        "        for evidence in curr_evidences:\n",
        "            # 0 => related\n",
        "            \n",
        "            if classifications_index < len(model_classifications) and model_classifications[classifications_index] == 0:\n",
        "                curr_filtered.append(evidence)\n",
        "\n",
        "            classifications_index += 1\n",
        "\n",
        "        if default and len(curr_filtered) == 0:\n",
        "            # keep the most similar evidence if all are deemed unrelated\n",
        "            curr_filtered.append(curr_evidences[0]) \n",
        "\n",
        "        filtered_evidences.append(curr_filtered)\n",
        "    \n",
        "    print(classifications_index)\n",
        "    claim_evi = {'text': claims, 'evidences': filtered_evidences, 'claim_label': 'not there yet'} #still include the label field to avoid index error \n",
        "    return pd.DataFrame(claim_evi)\n",
        "\n",
        "#filtered_claim_evidences = filter_relevant_evidences(test_with_evi, all_predictions)\n",
        "# use dev instead\n",
        "print(len(all_predictions))\n",
        "filtered_claim_evidences = filter_relevant_evidences(dev_with_evi, all_predictions)\n",
        "filtered_claim_evidences.head()\n",
        "\n"
      ]
    },
    {
      "cell_type": "code",
      "execution_count": 264,
      "metadata": {},
      "outputs": [
        {
          "name": "stdout",
          "output_type": "stream",
          "text": [
            "The contribution of waste heat to the global climate is 0.028 W/m2.\n",
            "=========================================================================================\n",
            "“Warm weather worsened the most recent five-year drought, which included the driest four-year period on record in terms of statewide precipitation.\n",
            "Another form of severe weather is drought, which is a prolonged period of persistently dry weather (that is, absence of precipitation).\n",
            "This is worsened by extreme weather events caused by climate change.\n",
            "=========================================================================================\n",
            "Greenland has only lost a tiny fraction of its ice mass.\n",
            "With widespread degradation of highly biodiverse habitats such as coral reefs and rainforests, as well as other areas, the vast majority of these extinctions are thought to be \"undocumented\", as the species are undiscovered at the time of their extinction, or no one has yet discovered their extinction.\n",
            "The Greenland ice sheet (, ) is a vast body of ice covering , roughly 80% of the surface of Greenland.\n",
            "=========================================================================================\n",
            "“The global reef crisis does not necessarily mean extinction for coral species.\n",
            "With widespread degradation of highly biodiverse habitats such as coral reefs and rainforests, as well as other areas, the vast majority of these extinctions are thought to be \"undocumented\", as the species are undiscovered at the time of their extinction, or no one has yet discovered their extinction.\n",
            "More detailed methods for determining the health of coral reefs that take into account long-term changes to the coral ecosystems and better-informed conservation policies are necessary to protect coral reefs in the years to come.\n",
            "=========================================================================================\n",
            "Small amounts of very active substances can cause large effects.\n",
            "They are loosely divided into causes, effects and mitigation, noting that effects are interconnected and can cause new effects.\n",
            "True\n"
          ]
        }
      ],
      "source": [
        "# manually check some of them to ensure they are somewhat correct\n",
        "\n",
        "# need to keep at least one for this one\n",
        "print(test_claims['claim-2967'])\n",
        "print('=' * 89)\n",
        "\n",
        "print(test_claims['claim-979'])\n",
        "print(evidence['evidence-178433'])\n",
        "print(evidence['evidence-421870'])\n",
        "print('=' * 89)\n",
        "\n",
        "print(test_claims['claim-1609'])\n",
        "print(evidence['evidence-382341'])\n",
        "print(evidence['evidence-726093'])\n",
        "\n",
        "print('=' * 89)\n",
        "\n",
        "print(test_claims['claim-1020'])\n",
        "print(evidence['evidence-382341'])\n",
        "print(evidence['evidence-542625'])\n",
        "print('=' * 89)\n",
        "print(test_claims['claim-2599'])\n",
        "print(evidence['evidence-860747'])\n",
        "\n",
        "print('evidence-860747' in evidence)"
      ]
    },
    {
      "cell_type": "code",
      "execution_count": 417,
      "metadata": {},
      "outputs": [
        {
          "name": "stdout",
          "output_type": "stream",
          "text": [
            "Evidence Retrieval F-score (F)    = 0.08149912857705068\n",
            "Claim Classification Accuracy (A) = 0.0\n",
            "Harmonic Mean of F and A          = 0.0\n"
          ]
        }
      ],
      "source": [
        "# adapted from eval.py\n",
        "def provided_eval(predictions, groundtruth):\n",
        "\n",
        "    try:\n",
        "        f, acc = [], []\n",
        "\n",
        "        #iterate through the groundtruth instances\n",
        "        for claim_id, claim in sorted(groundtruth.iterrows()):\n",
        "            \n",
        "            if claim_id in predictions.index and \\\n",
        "                \"claim_label\" in predictions.loc[claim_id] and \\\n",
        "                \"evidences\" in predictions.loc[claim_id]:\n",
        "                #print(claim_id)\n",
        "                #check claim level label\n",
        "                instance_correct = 0.0\n",
        "                if predictions.loc[claim_id][\"claim_label\"] == claim[\"claim_label\"]:\n",
        "                    instance_correct = 1.0\n",
        "                \n",
        "                #check retrieved evidences\n",
        "                evidence_correct = 0\n",
        "                evidence_recall = 0.0\n",
        "                evidence_precision = 0.0\n",
        "                evidence_fscore = 0.0\n",
        "              \n",
        "                if type(predictions.loc[claim_id][\"evidences\"]) == list and (len(predictions.loc[claim_id][\"evidences\"]) > 0):\n",
        "                    top_six_ev = set(predictions.loc[claim_id][\"evidences\"])\n",
        "                 \n",
        "                    for gr_ev in claim[\"evidences\"]:\n",
        "                        if gr_ev in top_six_ev:\n",
        "                            evidence_correct += 1\n",
        "                    if evidence_correct > 0:\n",
        "                        evidence_recall = float(evidence_correct) / len(claim[\"evidences\"])\n",
        "                        evidence_precision = \\\n",
        "                            float(evidence_correct) / len(predictions.loc[claim_id][\"evidences\"])\n",
        "                        evidence_fscore = (2*evidence_precision*evidence_recall)/(evidence_precision+evidence_recall)\n",
        "\n",
        "                \n",
        "                # print(\"groundtruth =\", claim)\n",
        "                # print(\"predictions =\", predictions.loc[claim_id])\n",
        "                # print(\"instance accuracy =\", instance_correct)\n",
        "                # print(\"evidence recall =\", evidence_recall)\n",
        "                # print(\"evidence precision =\", evidence_precision)\n",
        "                # print(\"evidence fscore =\", evidence_fscore, \"\\n\\n\")\n",
        "\n",
        "                #add the metric results\n",
        "                acc.append(instance_correct)\n",
        "                f.append(evidence_fscore)\n",
        "\n",
        "        #compute aggregate performance\n",
        "        mean_f = np.mean(f if len(f) > 0 else [0.0])\n",
        "        mean_acc = np.mean(acc if len(acc) > 0 else [0.0])\n",
        "        if mean_f == 0.0 and mean_acc == 0.0:\n",
        "            hmean = 0.0\n",
        "        else:\n",
        "            hmean = (2*mean_f*mean_acc)/(mean_f+mean_acc)\n",
        "\n",
        "        print(\"Evidence Retrieval F-score (F)    =\", mean_f)\n",
        "        print(\"Claim Classification Accuracy (A) =\", mean_acc)\n",
        "        print(\"Harmonic Mean of F and A          =\", hmean)\n",
        "                \n",
        "    except Exception as error:\n",
        "        print(\"Error:\", error)\n",
        "        raise SystemExit\n",
        "\n",
        "# print(\"claim-752\" in filtered_claim_evidences)\n",
        "# print(\"claim-752\" in dev_data)\n",
        "#print(dev_data.loc['claim-752']['claim_label'])\n",
        "provided_eval(filtered_claim_evidences, dev_data)"
      ]
    },
    {
      "cell_type": "markdown",
      "metadata": {
        "id": "mefSOe8eTmGP"
      },
      "source": [
        "## Object Oriented Programming codes here\n",
        "\n",
        "*You can use multiple code snippets. Just add more if needed*"
      ]
    },
    {
      "cell_type": "code",
      "execution_count": null,
      "metadata": {},
      "outputs": [],
      "source": [
        "import math\n",
        "import torch\n",
        "import torch.nn as nn\n",
        "import torch.nn.functional as F\n",
        "\n",
        "# model adpated from workshop 8\n",
        "class TransformerClassificationModel(nn.Module):\n",
        "    def __init__(self, ntoken, ninp, nhead, nhid, nlayers, num_classes, dropout=0.5):\n",
        "        super(TransformerClassificationModel, self).__init__()\n",
        "        from torch.nn import TransformerEncoder, TransformerEncoderLayer\n",
        "        self.model_type = 'Transformer'\n",
        "        self.src_mask = None\n",
        "        self.pos_encoder = PositionalEncoding(ninp, dropout)\n",
        "        encoder_layers = TransformerEncoderLayer(ninp, nhead, nhid, dropout)\n",
        "        self.transformer_encoder = TransformerEncoder(encoder_layers, nlayers)\n",
        "        self.encoder = nn.Embedding(ntoken, ninp)\n",
        "        self.ninp = ninp\n",
        "        self.classification_head = nn.Linear(ninp, num_classes)  # added classification head\n",
        "        self.init_weights()\n",
        "\n",
        "    def _generate_square_subsequent_mask(self, sz):\n",
        "        mask = (torch.triu(torch.ones(sz, sz)) == 1).transpose(0, 1)\n",
        "        mask = mask.float().masked_fill(mask == 0, float('-inf')).masked_fill(mask == 1, float(0.0))\n",
        "        return mask\n",
        "\n",
        "    def init_weights(self):\n",
        "        initrange = 0.1\n",
        "        self.encoder.weight.data.uniform_(-initrange, initrange)\n",
        "        self.classification_head.bias.data.zero_()\n",
        "        self.classification_head.weight.data.uniform_(-initrange, initrange)\n",
        "\n",
        "    def forward(self, src):\n",
        "        if self.src_mask is None or self.src_mask.size(0) != len(src):\n",
        "            device = src.device\n",
        "            mask = self._generate_square_subsequent_mask(len(src)).to(device)\n",
        "            self.src_mask = mask\n",
        "\n",
        "        src = self.encoder(src) * math.sqrt(self.ninp)\n",
        "        src = self.pos_encoder(src)\n",
        "        output = self.transformer_encoder(src, self.src_mask)\n",
        "        # print(\"ENCODER OUTPUT\")\n",
        "        # print(len(output))\n",
        "        output = output.mean(dim=1)  # aggregate across all tokens TODO: check if dim is correct\n",
        "        # print(\"AGGREGATE\")\n",
        "        # print(len(output))\n",
        "        output = self.classification_head(output) \n",
        "        # print(\"FINAL\")\n",
        "        # print(len(output))\n",
        "        return output\n",
        "\n",
        "\n",
        "\n",
        "class PositionalEncoding(nn.Module):\n",
        "\n",
        "    def __init__(self, d_model, dropout=0.1, max_len=5000):\n",
        "        super(PositionalEncoding, self).__init__()\n",
        "        self.dropout = nn.Dropout(p=dropout)\n",
        "\n",
        "        pe = torch.zeros(max_len, d_model)\n",
        "        position = torch.arange(0, max_len, dtype=torch.float).unsqueeze(1)\n",
        "        div_term = torch.exp(torch.arange(0, d_model, 2).float() * (-math.log(10000.0) / d_model))\n",
        "        pe[:, 0::2] = torch.sin(position * div_term) #0::2 means starting with index 0, step = 2\n",
        "        pe[:, 1::2] = torch.cos(position * div_term)\n",
        "        pe = pe.unsqueeze(0).transpose(0, 1)\n",
        "        self.register_buffer('pe', pe)\n",
        "\n",
        "    def forward(self, x):\n",
        "        x = x + self.pe[:x.size(0), :]\n",
        "        return self.dropout(x)"
      ]
    }
  ],
  "metadata": {
    "colab": {
      "provenance": []
    },
    "kernelspec": {
      "display_name": "Python 3",
      "name": "python3"
    },
    "language_info": {
      "codemirror_mode": {
        "name": "ipython",
        "version": 3
      },
      "file_extension": ".py",
      "mimetype": "text/x-python",
      "name": "python",
      "nbconvert_exporter": "python",
      "pygments_lexer": "ipython3",
      "version": "3.9.13"
    }
  },
  "nbformat": 4,
  "nbformat_minor": 0
}
